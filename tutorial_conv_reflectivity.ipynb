{
  "nbformat": 4,
  "nbformat_minor": 0,
  "metadata": {
    "colab": {
      "provenance": [],
      "authorship_tag": "ABX9TyMVv20eS67COq/PtIsfS1rM",
      "include_colab_link": true
    },
    "kernelspec": {
      "name": "python3",
      "display_name": "Python 3"
    },
    "language_info": {
      "name": "python"
    }
  },
  "cells": [
    {
      "cell_type": "markdown",
      "metadata": {
        "id": "view-in-github",
        "colab_type": "text"
      },
      "source": [
        "<a href=\"https://colab.research.google.com/github/weiyw16/Seismic_Tools/blob/master/tutorial_conv_reflectivity.ipynb\" target=\"_parent\"><img src=\"https://colab.research.google.com/assets/colab-badge.svg\" alt=\"Open In Colab\"/></a>"
      ]
    },
    {
      "cell_type": "markdown",
      "source": [
        "# Seismic images forward through convolution between wavelet and reflectivity\n",
        "\n",
        "Author: Yanwen Wei \\\n",
        "Email: weiyw17@gmail.com\n",
        "\n",
        "\n",
        "\n",
        "---\n",
        "\n",
        "\n",
        "Take away points:  \\\n",
        "```\n",
        "from scipy import signal\n",
        "migraion_image = signal.convolve(wavelet, reflectivity, mode = 'same')\n",
        "```\n"
      ],
      "metadata": {
        "id": "Qj9csDzUBE7k"
      }
    },
    {
      "cell_type": "code",
      "execution_count": 1,
      "metadata": {
        "id": "l_FS8_Km7vEi"
      },
      "outputs": [],
      "source": [
        "# requirement\n",
        "import os\n",
        "import numpy as np\n",
        "import matplotlib.pyplot as plt\n",
        "from scipy import signal\n",
        "from scipy import interpolate\n"
      ]
    },
    {
      "cell_type": "code",
      "source": [
        "def smooth_interface(n_layers=None, model_interface=None, xnew=None, ynew=None, well_loc=None):\n",
        "    '''\n",
        "    model_interface: [n_layers-1, nspace]\n",
        "    \n",
        "    '''\n",
        "    modely_gra = np.zeros((n_layers, xnew.shape[0])  )\n",
        "    new_modely = np.zeros((ynew.shape[0], xnew.shape[0])  ) \n",
        "    slight = np.zeros((ynew.shape[0], xnew.shape[0])  )\n",
        "    for i in range(xnew.shape[0]): # 801\n",
        "        modely_gra[:,i] =  model_interface[:,i] - model_interface[:,well_loc]\n",
        "        y = ( interpolate.interp1d(model_interface[:,well_loc], modely_gra[:,i], \\\n",
        "                                   kind='linear', fill_value=\"extrapolate\" ) )\n",
        "        slight[:, i] = y(ynew) \n",
        "        new_modely[:, i] = ynew + slight[:, i]\n",
        "    return slight, new_modely"
      ],
      "metadata": {
        "id": "dG87A7vUBxnh"
      },
      "execution_count": 2,
      "outputs": []
    },
    {
      "cell_type": "code",
      "source": [
        "# self defined Ricker wavelet\n",
        "# not use in this tutorial\n",
        "def dricker(freq=None, T=None, dt=None):\n",
        "    t = np.linspace(0, T, dt)\n",
        "    t = t - 1.5 / freq\n",
        "    a = freq * sqrt(2) * pi\n",
        "    wave = (1 - a*a*t*t)*exp(-0.5*a*a*t*t)\n",
        "    wave = wave*amp0\n",
        "    return wave"
      ],
      "metadata": {
        "id": "c573ru1QBz1g"
      },
      "execution_count": 3,
      "outputs": []
    },
    {
      "cell_type": "markdown",
      "source": [
        "## 1. produce a Ricker wavelet"
      ],
      "metadata": {
        "id": "NkrZHhKOB7eB"
      }
    },
    {
      "cell_type": "code",
      "source": [
        "# ricker wavelet via signal.ricker\n",
        "kers = 400\n",
        "points = kers\n",
        "Amplitude = 1.0\n",
        "vec2 = signal.ricker(points, Amplitude)\n",
        "plt.plot(vec2)\n"
      ],
      "metadata": {
        "colab": {
          "base_uri": "https://localhost:8080/",
          "height": 283
        },
        "id": "BGUGbz2IB2tj",
        "outputId": "6e5ed233-78aa-4776-b7c4-4b8d6312e5c1"
      },
      "execution_count": 4,
      "outputs": [
        {
          "output_type": "execute_result",
          "data": {
            "text/plain": [
              "[<matplotlib.lines.Line2D at 0x7ff829a25430>]"
            ]
          },
          "metadata": {},
          "execution_count": 4
        },
        {
          "output_type": "display_data",
          "data": {
            "text/plain": [
              "<Figure size 432x288 with 1 Axes>"
            ],
            "image/png": "[encoded data removed]"
          },
          "metadata": {
            "needs_background": "light"
          }
        }
      ]
    },
    {
      "cell_type": "markdown",
      "source": [
        "## 2. produce reflectivity\n",
        "(load in demo relectivity if available)\n"
      ],
      "metadata": {
        "id": "lL_eXVLdJNgn"
      }
    },
    {
      "cell_type": "code",
      "source": [
        "## product velocity model\n",
        "# note that the dimension should be [nx, nz] to make nz the fast axis\n",
        "\n",
        "# parameters\n",
        "nz = kers; nx = 126\n",
        "n_layers = 3; well_loc = 60\n",
        "tao = 30; k = 2.7\n",
        "\n",
        "# build reflectivity\n",
        "\n",
        "x = np.arange(0, nx, 1); xnew = x\n",
        "y = np.arange(0, nz, 1); ynew = y\n",
        "intef0 = x * 0\n",
        "intef = x * k + tao\n",
        "intef1 = x * 0 + y[-1]\n",
        "\n",
        "model_interface = np.concatenate( (np.expand_dims(intef0,axis=0), np.expand_dims(intef,axis=0), np.expand_dims(intef1,axis=0)), axis=0)\n",
        "slight, new_modely = smooth_interface(n_layers=n_layers, model_interface=model_interface, xnew=xnew, ynew=ynew, well_loc=well_loc)\n",
        "\n",
        "# build velocity\n",
        "mdlpa = [100, 200] # P velocity \n",
        "## prepare the velocity in the well\n",
        "model_1d = np.zeros( nz, dtype=np.float32 )\n",
        "for iy in range(nz):\n",
        "    for index in range(n_layers - 1):\n",
        "        if iy <= model_interface[index+1, well_loc]:\n",
        "            model_1d[iy] = mdlpa[index]\n",
        "            break\n",
        "# model[-1] = mdlpa[-1]\n",
        "\n",
        "# expand velocity from well to 2D\n",
        "model_2d = np.zeros((nz, nx), dtype=np.float32 )\n",
        "for ix in range(nx):\n",
        "    y = ( interpolate.interp1d(new_modely[:, ix], model_1d, kind='linear', fill_value=\"extrapolate\" ) )\n",
        "#     y = ( interpolate.interp1d(new_modely[:, ix], model, kind='cubic', fill_value=\"extrapolate\" ) )\n",
        "    model_2d[:, ix] = y(ynew) "
      ],
      "metadata": {
        "id": "osy_CX7aCCO8"
      },
      "execution_count": 33,
      "outputs": []
    },
    {
      "cell_type": "code",
      "source": [
        "# plot velocity model\n",
        "checkpoint = 1\n",
        "if checkpoint:\n",
        "    im = plt.imshow(model_2d, extent = [0, 5, 0, 10])\n",
        "    plt.colorbar(im)"
      ],
      "metadata": {
        "colab": {
          "base_uri": "https://localhost:8080/",
          "height": 269
        },
        "id": "71iJtmhnC998",
        "outputId": "00ee830d-2b95-4bff-f29a-ceffeffcc3d1"
      },
      "execution_count": 34,
      "outputs": [
        {
          "output_type": "display_data",
          "data": {
            "text/plain": [
              "<Figure size 432x288 with 2 Axes>"
            ],
            "image/png": "[encoded data removed]"
          },
          "metadata": {
            "needs_background": "light"
          }
        }
      ]
    },
    {
      "cell_type": "code",
      "source": [
        "# convolution \n",
        "out_mig = np.zeros_like(model_2d)\n",
        "for ii in range(nx):\n",
        "    out_mig[:,ii] = signal.convolve(vec2, model_2d[:,ii], mode = 'same')\n",
        "\n",
        "# plot\n",
        "# plt.imshow(out_mig[:-3,:], vmax=1, vmin=-1, extent = [0, 40, 0, 10])\n",
        "plt.imshow(out_mig[3:-3,:], vmax=1, vmin=-1, extent = [0, 5, 0, 10])\n",
        "plt.colorbar()"
      ],
      "metadata": {
        "colab": {
          "base_uri": "https://localhost:8080/",
          "height": 287
        },
        "id": "HIdEtmEZDGvd",
        "outputId": "e944e244-6b81-4974-82f8-4ec40a226cf1"
      },
      "execution_count": 44,
      "outputs": [
        {
          "output_type": "execute_result",
          "data": {
            "text/plain": [
              "<matplotlib.colorbar.Colorbar at 0x7ff8278cd160>"
            ]
          },
          "metadata": {},
          "execution_count": 44
        },
        {
          "output_type": "display_data",
          "data": {
            "text/plain": [
              "<Figure size 432x288 with 2 Axes>"
            ],
            "image/png": "[encoded data removed]"
          },
          "metadata": {
            "needs_background": "light"
          }
        }
      ]
    },
    {
      "cell_type": "code",
      "source": [],
      "metadata": {
        "id": "0XOJe7nbDRyh"
      },
      "execution_count": null,
      "outputs": []
    }
  ]
}